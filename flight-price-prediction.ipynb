{
 "cells": [
  {
   "cell_type": "markdown",
   "id": "52278b23",
   "metadata": {},
   "source": [
    "# Flight Price Prediction\n",
    "***"
   ]
  },
  {
   "cell_type": "markdown",
   "id": "69ad7cd6",
   "metadata": {},
   "source": [
    "## About the project"
   ]
  },
  {
   "cell_type": "markdown",
   "id": "1d7503c1",
   "metadata": {},
   "source": [
    "**Goals**\n",
    "The main goal is to analyze the flight booking dataset obtained from “Ease My Trip” website and get meaningful information from it. \n",
    "\n",
    "**Obs**: 'Easemytrip' is an internet platform for booking flight tickets, and hence a platform that potential passengers use to buy tickets\n",
    "\n",
    "**Questions**\n",
    "- Does price vary with Airlines?\n",
    "- Does ticket price change based on the departure time and arrival time?\n",
    "- How the price changes with change in Source and Destination?\n",
    "- How does the ticket price vary between Economy and Business class?\n",
    "\n",
    "**About the data**\n",
    "- Data was collected in two parts:\n",
    "    - 1- Economy Class Tickets;\n",
    "    - 2- Business Class Tickets."
   ]
  },
  {
   "cell_type": "markdown",
   "id": "1482a307",
   "metadata": {},
   "source": [
    "## Loading Libraries and Data"
   ]
  },
  {
   "cell_type": "code",
   "execution_count": 1,
   "id": "df0bf381",
   "metadata": {
    "ExecuteTime": {
     "end_time": "2022-06-04T19:40:38.172435Z",
     "start_time": "2022-06-04T19:40:36.527232Z"
    }
   },
   "outputs": [],
   "source": [
    "import numpy as np\n",
    "import pandas as pd\n",
    "import matplotlib.pyplot as plt\n",
    "import seaborn as sns\n",
    "import time\n",
    "\n",
    "\n",
    "import statsmodels.api as sm\n",
    "import statsmodels.formula.api as smf\n",
    "\n",
    "from sklearn.preprocessing import StandardScaler\n",
    "from sklearn.model_selection import train_test_split\n",
    "\n",
    "from sklearn.metrics import r2_score\n",
    "\n",
    "from sklearn.linear_model import LinearRegression\n",
    "from sklearn.linear_model import Ridge\n",
    "from sklearn.linear_model import Lasso\n",
    "\n",
    "import warnings\n",
    "warnings.filterwarnings('ignore')"
   ]
  },
  {
   "cell_type": "code",
   "execution_count": 2,
   "id": "af11a158",
   "metadata": {
    "ExecuteTime": {
     "end_time": "2022-06-04T19:40:38.277078Z",
     "start_time": "2022-06-04T19:40:38.173617Z"
    }
   },
   "outputs": [],
   "source": [
    "business = pd.read_csv('business.csv')"
   ]
  },
  {
   "cell_type": "code",
   "execution_count": 3,
   "id": "b547c741",
   "metadata": {
    "ExecuteTime": {
     "end_time": "2022-06-04T19:40:38.484499Z",
     "start_time": "2022-06-04T19:40:38.277879Z"
    }
   },
   "outputs": [],
   "source": [
    "economy = pd.read_csv('economy.csv')"
   ]
  },
  {
   "cell_type": "markdown",
   "id": "7d7af7de",
   "metadata": {},
   "source": [
    "## Exploratory Data Analysis - Part 1"
   ]
  },
  {
   "cell_type": "markdown",
   "id": "b2e0f0d2",
   "metadata": {},
   "source": [
    "### Business Data"
   ]
  },
  {
   "cell_type": "markdown",
   "id": "401cb2e5",
   "metadata": {},
   "source": [
    "#### Data types, missing data and duplicated data"
   ]
  },
  {
   "cell_type": "code",
   "execution_count": 4,
   "id": "759d20ee",
   "metadata": {
    "ExecuteTime": {
     "end_time": "2022-06-04T19:40:38.494347Z",
     "start_time": "2022-06-04T19:40:38.486073Z"
    }
   },
   "outputs": [
    {
     "data": {
      "text/html": [
       "<div>\n",
       "<style scoped>\n",
       "    .dataframe tbody tr th:only-of-type {\n",
       "        vertical-align: middle;\n",
       "    }\n",
       "\n",
       "    .dataframe tbody tr th {\n",
       "        vertical-align: top;\n",
       "    }\n",
       "\n",
       "    .dataframe thead th {\n",
       "        text-align: right;\n",
       "    }\n",
       "</style>\n",
       "<table border=\"1\" class=\"dataframe\">\n",
       "  <thead>\n",
       "    <tr style=\"text-align: right;\">\n",
       "      <th></th>\n",
       "      <th>date</th>\n",
       "      <th>airline</th>\n",
       "      <th>ch_code</th>\n",
       "      <th>num_code</th>\n",
       "      <th>dep_time</th>\n",
       "      <th>from</th>\n",
       "      <th>time_taken</th>\n",
       "      <th>stop</th>\n",
       "      <th>arr_time</th>\n",
       "      <th>to</th>\n",
       "      <th>price</th>\n",
       "    </tr>\n",
       "  </thead>\n",
       "  <tbody>\n",
       "    <tr>\n",
       "      <th>0</th>\n",
       "      <td>11-02-2022</td>\n",
       "      <td>Air India</td>\n",
       "      <td>AI</td>\n",
       "      <td>868</td>\n",
       "      <td>18:00</td>\n",
       "      <td>Delhi</td>\n",
       "      <td>02h 00m</td>\n",
       "      <td>non-stop</td>\n",
       "      <td>20:00</td>\n",
       "      <td>Mumbai</td>\n",
       "      <td>25,612</td>\n",
       "    </tr>\n",
       "    <tr>\n",
       "      <th>1</th>\n",
       "      <td>11-02-2022</td>\n",
       "      <td>Air India</td>\n",
       "      <td>AI</td>\n",
       "      <td>624</td>\n",
       "      <td>19:00</td>\n",
       "      <td>Delhi</td>\n",
       "      <td>02h 15m</td>\n",
       "      <td>non-stop</td>\n",
       "      <td>21:15</td>\n",
       "      <td>Mumbai</td>\n",
       "      <td>25,612</td>\n",
       "    </tr>\n",
       "    <tr>\n",
       "      <th>2</th>\n",
       "      <td>11-02-2022</td>\n",
       "      <td>Air India</td>\n",
       "      <td>AI</td>\n",
       "      <td>531</td>\n",
       "      <td>20:00</td>\n",
       "      <td>Delhi</td>\n",
       "      <td>24h 45m</td>\n",
       "      <td>1-stop\\n\\t\\t\\t\\t\\t\\t\\t\\t\\t\\t\\t\\t\\n\\t\\t\\t\\t\\t\\t...</td>\n",
       "      <td>20:45</td>\n",
       "      <td>Mumbai</td>\n",
       "      <td>42,220</td>\n",
       "    </tr>\n",
       "    <tr>\n",
       "      <th>3</th>\n",
       "      <td>11-02-2022</td>\n",
       "      <td>Air India</td>\n",
       "      <td>AI</td>\n",
       "      <td>839</td>\n",
       "      <td>21:25</td>\n",
       "      <td>Delhi</td>\n",
       "      <td>26h 30m</td>\n",
       "      <td>1-stop\\n\\t\\t\\t\\t\\t\\t\\t\\t\\t\\t\\t\\t\\n\\t\\t\\t\\t\\t\\t...</td>\n",
       "      <td>23:55</td>\n",
       "      <td>Mumbai</td>\n",
       "      <td>44,450</td>\n",
       "    </tr>\n",
       "    <tr>\n",
       "      <th>4</th>\n",
       "      <td>11-02-2022</td>\n",
       "      <td>Air India</td>\n",
       "      <td>AI</td>\n",
       "      <td>544</td>\n",
       "      <td>17:15</td>\n",
       "      <td>Delhi</td>\n",
       "      <td>06h 40m</td>\n",
       "      <td>1-stop\\n\\t\\t\\t\\t\\t\\t\\t\\t\\t\\t\\t\\t\\n\\t\\t\\t\\t\\t\\t...</td>\n",
       "      <td>23:55</td>\n",
       "      <td>Mumbai</td>\n",
       "      <td>46,690</td>\n",
       "    </tr>\n",
       "  </tbody>\n",
       "</table>\n",
       "</div>"
      ],
      "text/plain": [
       "         date    airline ch_code  num_code dep_time   from time_taken  \\\n",
       "0  11-02-2022  Air India      AI       868    18:00  Delhi    02h 00m   \n",
       "1  11-02-2022  Air India      AI       624    19:00  Delhi    02h 15m   \n",
       "2  11-02-2022  Air India      AI       531    20:00  Delhi    24h 45m   \n",
       "3  11-02-2022  Air India      AI       839    21:25  Delhi    26h 30m   \n",
       "4  11-02-2022  Air India      AI       544    17:15  Delhi    06h 40m   \n",
       "\n",
       "                                                stop arr_time      to   price  \n",
       "0                                          non-stop     20:00  Mumbai  25,612  \n",
       "1                                          non-stop     21:15  Mumbai  25,612  \n",
       "2  1-stop\\n\\t\\t\\t\\t\\t\\t\\t\\t\\t\\t\\t\\t\\n\\t\\t\\t\\t\\t\\t...    20:45  Mumbai  42,220  \n",
       "3  1-stop\\n\\t\\t\\t\\t\\t\\t\\t\\t\\t\\t\\t\\t\\n\\t\\t\\t\\t\\t\\t...    23:55  Mumbai  44,450  \n",
       "4  1-stop\\n\\t\\t\\t\\t\\t\\t\\t\\t\\t\\t\\t\\t\\n\\t\\t\\t\\t\\t\\t...    23:55  Mumbai  46,690  "
      ]
     },
     "execution_count": 4,
     "metadata": {},
     "output_type": "execute_result"
    }
   ],
   "source": [
    "business.head()"
   ]
  },
  {
   "cell_type": "code",
   "execution_count": 5,
   "id": "37a1dc0f",
   "metadata": {
    "ExecuteTime": {
     "end_time": "2022-06-04T19:40:38.532654Z",
     "start_time": "2022-06-04T19:40:38.495121Z"
    }
   },
   "outputs": [
    {
     "name": "stdout",
     "output_type": "stream",
     "text": [
      "<class 'pandas.core.frame.DataFrame'>\n",
      "RangeIndex: 93487 entries, 0 to 93486\n",
      "Data columns (total 11 columns):\n",
      " #   Column      Non-Null Count  Dtype \n",
      "---  ------      --------------  ----- \n",
      " 0   date        93487 non-null  object\n",
      " 1   airline     93487 non-null  object\n",
      " 2   ch_code     93487 non-null  object\n",
      " 3   num_code    93487 non-null  int64 \n",
      " 4   dep_time    93487 non-null  object\n",
      " 5   from        93487 non-null  object\n",
      " 6   time_taken  93487 non-null  object\n",
      " 7   stop        93487 non-null  object\n",
      " 8   arr_time    93487 non-null  object\n",
      " 9   to          93487 non-null  object\n",
      " 10  price       93487 non-null  object\n",
      "dtypes: int64(1), object(10)\n",
      "memory usage: 7.8+ MB\n"
     ]
    }
   ],
   "source": [
    "business.info()"
   ]
  },
  {
   "cell_type": "code",
   "execution_count": 6,
   "id": "b83eeb3b",
   "metadata": {
    "ExecuteTime": {
     "end_time": "2022-06-04T19:40:38.570937Z",
     "start_time": "2022-06-04T19:40:38.533519Z"
    }
   },
   "outputs": [
    {
     "data": {
      "text/plain": [
       "date          0\n",
       "airline       0\n",
       "ch_code       0\n",
       "num_code      0\n",
       "dep_time      0\n",
       "from          0\n",
       "time_taken    0\n",
       "stop          0\n",
       "arr_time      0\n",
       "to            0\n",
       "price         0\n",
       "dtype: int64"
      ]
     },
     "execution_count": 6,
     "metadata": {},
     "output_type": "execute_result"
    }
   ],
   "source": [
    "business.isna().sum()"
   ]
  },
  {
   "cell_type": "code",
   "execution_count": 7,
   "id": "0ab4f26d",
   "metadata": {
    "ExecuteTime": {
     "end_time": "2022-06-04T19:40:38.627439Z",
     "start_time": "2022-06-04T19:40:38.571984Z"
    }
   },
   "outputs": [
    {
     "data": {
      "text/plain": [
       "False"
      ]
     },
     "execution_count": 7,
     "metadata": {},
     "output_type": "execute_result"
    }
   ],
   "source": [
    "any(business.duplicated())"
   ]
  },
  {
   "cell_type": "markdown",
   "id": "382f38db",
   "metadata": {
    "heading_collapsed": true
   },
   "source": [
    "#### Observations\n",
    "- According to the info above, we can see that there's no missing or duplicated data in the dataset;\n",
    "- All the variables that indicates a date are not in datetime type;\n",
    "- Time taken variable has minutes (m) on it;\n",
    "- Stop variable is not in a good format;\n",
    "- Price variable is object typed;"
   ]
  },
  {
   "cell_type": "markdown",
   "id": "65314335",
   "metadata": {},
   "source": [
    "#### Number of unique values per column"
   ]
  },
  {
   "cell_type": "code",
   "execution_count": 8,
   "id": "fcc4cd11",
   "metadata": {
    "ExecuteTime": {
     "end_time": "2022-06-04T19:40:38.672388Z",
     "start_time": "2022-06-04T19:40:38.628679Z"
    }
   },
   "outputs": [
    {
     "data": {
      "text/plain": [
       "date            49\n",
       "airline          2\n",
       "ch_code          2\n",
       "num_code       264\n",
       "dep_time       166\n",
       "from             6\n",
       "time_taken     373\n",
       "stop            25\n",
       "arr_time       176\n",
       "to               6\n",
       "price         2358\n",
       "dtype: int64"
      ]
     },
     "execution_count": 8,
     "metadata": {},
     "output_type": "execute_result"
    }
   ],
   "source": [
    "business.nunique()"
   ]
  },
  {
   "cell_type": "markdown",
   "id": "49a59397",
   "metadata": {},
   "source": [
    "### Economy Data"
   ]
  },
  {
   "cell_type": "markdown",
   "id": "c431a080",
   "metadata": {},
   "source": [
    "#### Data types, missing data and duplicated data"
   ]
  },
  {
   "cell_type": "code",
   "execution_count": 9,
   "id": "b0fac7b2",
   "metadata": {
    "ExecuteTime": {
     "end_time": "2022-06-04T19:40:38.680132Z",
     "start_time": "2022-06-04T19:40:38.673332Z"
    }
   },
   "outputs": [
    {
     "data": {
      "text/html": [
       "<div>\n",
       "<style scoped>\n",
       "    .dataframe tbody tr th:only-of-type {\n",
       "        vertical-align: middle;\n",
       "    }\n",
       "\n",
       "    .dataframe tbody tr th {\n",
       "        vertical-align: top;\n",
       "    }\n",
       "\n",
       "    .dataframe thead th {\n",
       "        text-align: right;\n",
       "    }\n",
       "</style>\n",
       "<table border=\"1\" class=\"dataframe\">\n",
       "  <thead>\n",
       "    <tr style=\"text-align: right;\">\n",
       "      <th></th>\n",
       "      <th>date</th>\n",
       "      <th>airline</th>\n",
       "      <th>ch_code</th>\n",
       "      <th>num_code</th>\n",
       "      <th>dep_time</th>\n",
       "      <th>from</th>\n",
       "      <th>time_taken</th>\n",
       "      <th>stop</th>\n",
       "      <th>arr_time</th>\n",
       "      <th>to</th>\n",
       "      <th>price</th>\n",
       "    </tr>\n",
       "  </thead>\n",
       "  <tbody>\n",
       "    <tr>\n",
       "      <th>0</th>\n",
       "      <td>11-02-2022</td>\n",
       "      <td>SpiceJet</td>\n",
       "      <td>SG</td>\n",
       "      <td>8709</td>\n",
       "      <td>18:55</td>\n",
       "      <td>Delhi</td>\n",
       "      <td>02h 10m</td>\n",
       "      <td>non-stop</td>\n",
       "      <td>21:05</td>\n",
       "      <td>Mumbai</td>\n",
       "      <td>5,953</td>\n",
       "    </tr>\n",
       "    <tr>\n",
       "      <th>1</th>\n",
       "      <td>11-02-2022</td>\n",
       "      <td>SpiceJet</td>\n",
       "      <td>SG</td>\n",
       "      <td>8157</td>\n",
       "      <td>06:20</td>\n",
       "      <td>Delhi</td>\n",
       "      <td>02h 20m</td>\n",
       "      <td>non-stop</td>\n",
       "      <td>08:40</td>\n",
       "      <td>Mumbai</td>\n",
       "      <td>5,953</td>\n",
       "    </tr>\n",
       "    <tr>\n",
       "      <th>2</th>\n",
       "      <td>11-02-2022</td>\n",
       "      <td>AirAsia</td>\n",
       "      <td>I5</td>\n",
       "      <td>764</td>\n",
       "      <td>04:25</td>\n",
       "      <td>Delhi</td>\n",
       "      <td>02h 10m</td>\n",
       "      <td>non-stop</td>\n",
       "      <td>06:35</td>\n",
       "      <td>Mumbai</td>\n",
       "      <td>5,956</td>\n",
       "    </tr>\n",
       "    <tr>\n",
       "      <th>3</th>\n",
       "      <td>11-02-2022</td>\n",
       "      <td>Vistara</td>\n",
       "      <td>UK</td>\n",
       "      <td>995</td>\n",
       "      <td>10:20</td>\n",
       "      <td>Delhi</td>\n",
       "      <td>02h 15m</td>\n",
       "      <td>non-stop</td>\n",
       "      <td>12:35</td>\n",
       "      <td>Mumbai</td>\n",
       "      <td>5,955</td>\n",
       "    </tr>\n",
       "    <tr>\n",
       "      <th>4</th>\n",
       "      <td>11-02-2022</td>\n",
       "      <td>Vistara</td>\n",
       "      <td>UK</td>\n",
       "      <td>963</td>\n",
       "      <td>08:50</td>\n",
       "      <td>Delhi</td>\n",
       "      <td>02h 20m</td>\n",
       "      <td>non-stop</td>\n",
       "      <td>11:10</td>\n",
       "      <td>Mumbai</td>\n",
       "      <td>5,955</td>\n",
       "    </tr>\n",
       "  </tbody>\n",
       "</table>\n",
       "</div>"
      ],
      "text/plain": [
       "         date   airline ch_code  num_code dep_time   from time_taken  \\\n",
       "0  11-02-2022  SpiceJet      SG      8709    18:55  Delhi    02h 10m   \n",
       "1  11-02-2022  SpiceJet      SG      8157    06:20  Delhi    02h 20m   \n",
       "2  11-02-2022   AirAsia      I5       764    04:25  Delhi    02h 10m   \n",
       "3  11-02-2022   Vistara      UK       995    10:20  Delhi    02h 15m   \n",
       "4  11-02-2022   Vistara      UK       963    08:50  Delhi    02h 20m   \n",
       "\n",
       "        stop arr_time      to  price  \n",
       "0  non-stop     21:05  Mumbai  5,953  \n",
       "1  non-stop     08:40  Mumbai  5,953  \n",
       "2  non-stop     06:35  Mumbai  5,956  \n",
       "3  non-stop     12:35  Mumbai  5,955  \n",
       "4  non-stop     11:10  Mumbai  5,955  "
      ]
     },
     "execution_count": 9,
     "metadata": {},
     "output_type": "execute_result"
    }
   ],
   "source": [
    "economy.head()"
   ]
  },
  {
   "cell_type": "code",
   "execution_count": 10,
   "id": "48454ed4",
   "metadata": {
    "ExecuteTime": {
     "end_time": "2022-06-04T19:40:38.760468Z",
     "start_time": "2022-06-04T19:40:38.682891Z"
    }
   },
   "outputs": [
    {
     "name": "stdout",
     "output_type": "stream",
     "text": [
      "<class 'pandas.core.frame.DataFrame'>\n",
      "RangeIndex: 206774 entries, 0 to 206773\n",
      "Data columns (total 11 columns):\n",
      " #   Column      Non-Null Count   Dtype \n",
      "---  ------      --------------   ----- \n",
      " 0   date        206774 non-null  object\n",
      " 1   airline     206774 non-null  object\n",
      " 2   ch_code     206774 non-null  object\n",
      " 3   num_code    206774 non-null  int64 \n",
      " 4   dep_time    206774 non-null  object\n",
      " 5   from        206774 non-null  object\n",
      " 6   time_taken  206774 non-null  object\n",
      " 7   stop        206774 non-null  object\n",
      " 8   arr_time    206774 non-null  object\n",
      " 9   to          206774 non-null  object\n",
      " 10  price       206774 non-null  object\n",
      "dtypes: int64(1), object(10)\n",
      "memory usage: 17.4+ MB\n"
     ]
    }
   ],
   "source": [
    "economy.info()"
   ]
  },
  {
   "cell_type": "code",
   "execution_count": 11,
   "id": "5e25a6aa",
   "metadata": {
    "ExecuteTime": {
     "end_time": "2022-06-04T19:40:38.834234Z",
     "start_time": "2022-06-04T19:40:38.761578Z"
    }
   },
   "outputs": [
    {
     "data": {
      "text/plain": [
       "date          0\n",
       "airline       0\n",
       "ch_code       0\n",
       "num_code      0\n",
       "dep_time      0\n",
       "from          0\n",
       "time_taken    0\n",
       "stop          0\n",
       "arr_time      0\n",
       "to            0\n",
       "price         0\n",
       "dtype: int64"
      ]
     },
     "execution_count": 11,
     "metadata": {},
     "output_type": "execute_result"
    }
   ],
   "source": [
    "economy.isna().sum()"
   ]
  },
  {
   "cell_type": "code",
   "execution_count": 12,
   "id": "41d002cb",
   "metadata": {
    "ExecuteTime": {
     "end_time": "2022-06-04T19:40:38.940597Z",
     "start_time": "2022-06-04T19:40:38.835121Z"
    }
   },
   "outputs": [
    {
     "data": {
      "text/plain": [
       "True"
      ]
     },
     "execution_count": 12,
     "metadata": {},
     "output_type": "execute_result"
    }
   ],
   "source": [
    "any(economy.duplicated())"
   ]
  },
  {
   "cell_type": "markdown",
   "id": "db4a8e75",
   "metadata": {
    "heading_collapsed": true
   },
   "source": [
    "#### Observations\n",
    "- According to the info above, we can see that there's no missing data in the dataset;\n",
    "- It seems that there are some duplicated date in the dataset;\n",
    "- All the variables that indicates a date are not in datetime type;\n",
    "- Time taken variable has minutes (m) on it;\n",
    "- Price variable is object typed;"
   ]
  },
  {
   "cell_type": "markdown",
   "id": "a8396a49",
   "metadata": {},
   "source": [
    "#### Number of unique values per column"
   ]
  },
  {
   "cell_type": "code",
   "execution_count": 13,
   "id": "bf676513",
   "metadata": {
    "ExecuteTime": {
     "end_time": "2022-06-04T19:40:39.029109Z",
     "start_time": "2022-06-04T19:40:38.941579Z"
    }
   },
   "outputs": [
    {
     "data": {
      "text/plain": [
       "date            49\n",
       "airline          8\n",
       "ch_code          8\n",
       "num_code      1254\n",
       "dep_time       251\n",
       "from             6\n",
       "time_taken     483\n",
       "stop            37\n",
       "arr_time       266\n",
       "to               6\n",
       "price         9819\n",
       "dtype: int64"
      ]
     },
     "execution_count": 13,
     "metadata": {},
     "output_type": "execute_result"
    }
   ],
   "source": [
    "economy.nunique()"
   ]
  },
  {
   "cell_type": "markdown",
   "id": "fbbdec7c",
   "metadata": {},
   "source": [
    "## Data Preprocessing - Part 1"
   ]
  },
  {
   "cell_type": "markdown",
   "id": "886846a0",
   "metadata": {
    "heading_collapsed": true
   },
   "source": [
    "### Adding a new column \"class\" to each datast"
   ]
  },
  {
   "cell_type": "code",
   "execution_count": 14,
   "id": "b39b01ba",
   "metadata": {
    "ExecuteTime": {
     "end_time": "2022-06-04T19:40:39.033018Z",
     "start_time": "2022-06-04T19:40:39.030146Z"
    },
    "hidden": true
   },
   "outputs": [],
   "source": [
    "economy['class'] = 'economy'"
   ]
  },
  {
   "cell_type": "code",
   "execution_count": 15,
   "id": "8ae74053",
   "metadata": {
    "ExecuteTime": {
     "end_time": "2022-06-04T19:40:39.036758Z",
     "start_time": "2022-06-04T19:40:39.034049Z"
    },
    "hidden": true
   },
   "outputs": [],
   "source": [
    "business['class'] = 'business'"
   ]
  },
  {
   "cell_type": "markdown",
   "id": "05079dc8",
   "metadata": {},
   "source": [
    "### Data joining"
   ]
  },
  {
   "cell_type": "markdown",
   "id": "70ae39f4",
   "metadata": {},
   "source": [
    "Joining the datasets, so that both can be analysed together"
   ]
  },
  {
   "cell_type": "code",
   "execution_count": 16,
   "id": "73213bb7",
   "metadata": {
    "ExecuteTime": {
     "end_time": "2022-06-04T19:40:39.075563Z",
     "start_time": "2022-06-04T19:40:39.037675Z"
    }
   },
   "outputs": [],
   "source": [
    "df = pd.concat([business, economy])"
   ]
  },
  {
   "cell_type": "code",
   "execution_count": 17,
   "id": "a29beb72",
   "metadata": {
    "ExecuteTime": {
     "end_time": "2022-06-04T19:40:39.083739Z",
     "start_time": "2022-06-04T19:40:39.076517Z"
    },
    "scrolled": false
   },
   "outputs": [
    {
     "data": {
      "text/html": [
       "<div>\n",
       "<style scoped>\n",
       "    .dataframe tbody tr th:only-of-type {\n",
       "        vertical-align: middle;\n",
       "    }\n",
       "\n",
       "    .dataframe tbody tr th {\n",
       "        vertical-align: top;\n",
       "    }\n",
       "\n",
       "    .dataframe thead th {\n",
       "        text-align: right;\n",
       "    }\n",
       "</style>\n",
       "<table border=\"1\" class=\"dataframe\">\n",
       "  <thead>\n",
       "    <tr style=\"text-align: right;\">\n",
       "      <th></th>\n",
       "      <th>date</th>\n",
       "      <th>airline</th>\n",
       "      <th>ch_code</th>\n",
       "      <th>num_code</th>\n",
       "      <th>dep_time</th>\n",
       "      <th>from</th>\n",
       "      <th>time_taken</th>\n",
       "      <th>stop</th>\n",
       "      <th>arr_time</th>\n",
       "      <th>to</th>\n",
       "      <th>price</th>\n",
       "      <th>class</th>\n",
       "    </tr>\n",
       "  </thead>\n",
       "  <tbody>\n",
       "    <tr>\n",
       "      <th>0</th>\n",
       "      <td>11-02-2022</td>\n",
       "      <td>Air India</td>\n",
       "      <td>AI</td>\n",
       "      <td>868</td>\n",
       "      <td>18:00</td>\n",
       "      <td>Delhi</td>\n",
       "      <td>02h 00m</td>\n",
       "      <td>non-stop</td>\n",
       "      <td>20:00</td>\n",
       "      <td>Mumbai</td>\n",
       "      <td>25,612</td>\n",
       "      <td>business</td>\n",
       "    </tr>\n",
       "    <tr>\n",
       "      <th>1</th>\n",
       "      <td>11-02-2022</td>\n",
       "      <td>Air India</td>\n",
       "      <td>AI</td>\n",
       "      <td>624</td>\n",
       "      <td>19:00</td>\n",
       "      <td>Delhi</td>\n",
       "      <td>02h 15m</td>\n",
       "      <td>non-stop</td>\n",
       "      <td>21:15</td>\n",
       "      <td>Mumbai</td>\n",
       "      <td>25,612</td>\n",
       "      <td>business</td>\n",
       "    </tr>\n",
       "    <tr>\n",
       "      <th>2</th>\n",
       "      <td>11-02-2022</td>\n",
       "      <td>Air India</td>\n",
       "      <td>AI</td>\n",
       "      <td>531</td>\n",
       "      <td>20:00</td>\n",
       "      <td>Delhi</td>\n",
       "      <td>24h 45m</td>\n",
       "      <td>1-stop\\n\\t\\t\\t\\t\\t\\t\\t\\t\\t\\t\\t\\t\\n\\t\\t\\t\\t\\t\\t...</td>\n",
       "      <td>20:45</td>\n",
       "      <td>Mumbai</td>\n",
       "      <td>42,220</td>\n",
       "      <td>business</td>\n",
       "    </tr>\n",
       "    <tr>\n",
       "      <th>3</th>\n",
       "      <td>11-02-2022</td>\n",
       "      <td>Air India</td>\n",
       "      <td>AI</td>\n",
       "      <td>839</td>\n",
       "      <td>21:25</td>\n",
       "      <td>Delhi</td>\n",
       "      <td>26h 30m</td>\n",
       "      <td>1-stop\\n\\t\\t\\t\\t\\t\\t\\t\\t\\t\\t\\t\\t\\n\\t\\t\\t\\t\\t\\t...</td>\n",
       "      <td>23:55</td>\n",
       "      <td>Mumbai</td>\n",
       "      <td>44,450</td>\n",
       "      <td>business</td>\n",
       "    </tr>\n",
       "    <tr>\n",
       "      <th>4</th>\n",
       "      <td>11-02-2022</td>\n",
       "      <td>Air India</td>\n",
       "      <td>AI</td>\n",
       "      <td>544</td>\n",
       "      <td>17:15</td>\n",
       "      <td>Delhi</td>\n",
       "      <td>06h 40m</td>\n",
       "      <td>1-stop\\n\\t\\t\\t\\t\\t\\t\\t\\t\\t\\t\\t\\t\\n\\t\\t\\t\\t\\t\\t...</td>\n",
       "      <td>23:55</td>\n",
       "      <td>Mumbai</td>\n",
       "      <td>46,690</td>\n",
       "      <td>business</td>\n",
       "    </tr>\n",
       "  </tbody>\n",
       "</table>\n",
       "</div>"
      ],
      "text/plain": [
       "         date    airline ch_code  num_code dep_time   from time_taken  \\\n",
       "0  11-02-2022  Air India      AI       868    18:00  Delhi    02h 00m   \n",
       "1  11-02-2022  Air India      AI       624    19:00  Delhi    02h 15m   \n",
       "2  11-02-2022  Air India      AI       531    20:00  Delhi    24h 45m   \n",
       "3  11-02-2022  Air India      AI       839    21:25  Delhi    26h 30m   \n",
       "4  11-02-2022  Air India      AI       544    17:15  Delhi    06h 40m   \n",
       "\n",
       "                                                stop arr_time      to   price  \\\n",
       "0                                          non-stop     20:00  Mumbai  25,612   \n",
       "1                                          non-stop     21:15  Mumbai  25,612   \n",
       "2  1-stop\\n\\t\\t\\t\\t\\t\\t\\t\\t\\t\\t\\t\\t\\n\\t\\t\\t\\t\\t\\t...    20:45  Mumbai  42,220   \n",
       "3  1-stop\\n\\t\\t\\t\\t\\t\\t\\t\\t\\t\\t\\t\\t\\n\\t\\t\\t\\t\\t\\t...    23:55  Mumbai  44,450   \n",
       "4  1-stop\\n\\t\\t\\t\\t\\t\\t\\t\\t\\t\\t\\t\\t\\n\\t\\t\\t\\t\\t\\t...    23:55  Mumbai  46,690   \n",
       "\n",
       "      class  \n",
       "0  business  \n",
       "1  business  \n",
       "2  business  \n",
       "3  business  \n",
       "4  business  "
      ]
     },
     "execution_count": 17,
     "metadata": {},
     "output_type": "execute_result"
    }
   ],
   "source": [
    "df.head()"
   ]
  },
  {
   "cell_type": "code",
   "execution_count": 18,
   "id": "bf21e115",
   "metadata": {
    "ExecuteTime": {
     "end_time": "2022-06-04T19:40:39.202158Z",
     "start_time": "2022-06-04T19:40:39.084716Z"
    }
   },
   "outputs": [
    {
     "name": "stdout",
     "output_type": "stream",
     "text": [
      "<class 'pandas.core.frame.DataFrame'>\n",
      "Int64Index: 300261 entries, 0 to 206773\n",
      "Data columns (total 12 columns):\n",
      " #   Column      Non-Null Count   Dtype \n",
      "---  ------      --------------   ----- \n",
      " 0   date        300261 non-null  object\n",
      " 1   airline     300261 non-null  object\n",
      " 2   ch_code     300261 non-null  object\n",
      " 3   num_code    300261 non-null  int64 \n",
      " 4   dep_time    300261 non-null  object\n",
      " 5   from        300261 non-null  object\n",
      " 6   time_taken  300261 non-null  object\n",
      " 7   stop        300261 non-null  object\n",
      " 8   arr_time    300261 non-null  object\n",
      " 9   to          300261 non-null  object\n",
      " 10  price       300261 non-null  object\n",
      " 11  class       300261 non-null  object\n",
      "dtypes: int64(1), object(11)\n",
      "memory usage: 29.8+ MB\n"
     ]
    }
   ],
   "source": [
    "df.info()"
   ]
  },
  {
   "cell_type": "markdown",
   "id": "7636c658",
   "metadata": {},
   "source": [
    "- According to the info above, we can see that there's no missing data in the dataset;\n",
    "- All the variables that indicates a date are note in datetime type;\n",
    "- Time taken variable has minutes (m) on it;\n",
    "- Stop variable is not in a good format;\n",
    "- Price variable is object typed;"
   ]
  },
  {
   "cell_type": "markdown",
   "id": "c2b8903e",
   "metadata": {},
   "source": [
    "### Changing from object to datetime type"
   ]
  },
  {
   "cell_type": "code",
   "execution_count": 19,
   "id": "9ef0e174",
   "metadata": {
    "ExecuteTime": {
     "end_time": "2022-06-04T19:40:39.265174Z",
     "start_time": "2022-06-04T19:40:39.203128Z"
    }
   },
   "outputs": [],
   "source": [
    "#Removing all \"-\" from the date\n",
    "df['date'] = df['date'].str.strip('-')"
   ]
  },
  {
   "cell_type": "code",
   "execution_count": 20,
   "id": "01cc48fa",
   "metadata": {
    "ExecuteTime": {
     "end_time": "2022-06-04T19:40:39.302604Z",
     "start_time": "2022-06-04T19:40:39.265988Z"
    }
   },
   "outputs": [],
   "source": [
    "df['date'] = pd.to_datetime(df['date'])"
   ]
  },
  {
   "cell_type": "markdown",
   "id": "9e8f1ddf",
   "metadata": {},
   "source": [
    "### Dropping the flight code"
   ]
  },
  {
   "cell_type": "code",
   "execution_count": 21,
   "id": "832a5d97",
   "metadata": {
    "ExecuteTime": {
     "end_time": "2022-06-04T19:40:39.352078Z",
     "start_time": "2022-06-04T19:40:39.303378Z"
    }
   },
   "outputs": [],
   "source": [
    "df.drop(columns = ['num_code', 'ch_code'], inplace = True)"
   ]
  },
  {
   "cell_type": "markdown",
   "id": "17c56f8a",
   "metadata": {},
   "source": [
    "### Formating the time_taken variable"
   ]
  },
  {
   "cell_type": "code",
   "execution_count": 22,
   "id": "07610f56",
   "metadata": {
    "ExecuteTime": {
     "end_time": "2022-06-04T19:40:39.425231Z",
     "start_time": "2022-06-04T19:40:39.352895Z"
    }
   },
   "outputs": [],
   "source": [
    "#Removing characters 'h' and 'm'\n",
    "df['time_taken'] = df['time_taken'].str.replace('h','')"
   ]
  },
  {
   "cell_type": "code",
   "execution_count": 23,
   "id": "fcaa0d7a",
   "metadata": {
    "ExecuteTime": {
     "end_time": "2022-06-04T19:40:39.495908Z",
     "start_time": "2022-06-04T19:40:39.426210Z"
    }
   },
   "outputs": [],
   "source": [
    "df['time_taken'] = df['time_taken'].str.strip('m')"
   ]
  },
  {
   "cell_type": "code",
   "execution_count": 24,
   "id": "5c1b5cb7",
   "metadata": {
    "ExecuteTime": {
     "end_time": "2022-06-04T19:40:39.575074Z",
     "start_time": "2022-06-04T19:40:39.496729Z"
    }
   },
   "outputs": [],
   "source": [
    "df['time_taken'] = (df['time_taken'].str.replace(' ',''))"
   ]
  },
  {
   "cell_type": "code",
   "execution_count": 25,
   "id": "4b16de6b",
   "metadata": {
    "ExecuteTime": {
     "end_time": "2022-06-04T19:40:39.642404Z",
     "start_time": "2022-06-04T19:40:39.575882Z"
    }
   },
   "outputs": [],
   "source": [
    "df['time_taken'] = df['time_taken'].str.replace('.','')"
   ]
  },
  {
   "cell_type": "code",
   "execution_count": 26,
   "id": "97009c1e",
   "metadata": {
    "ExecuteTime": {
     "end_time": "2022-06-04T19:40:39.672586Z",
     "start_time": "2022-06-04T19:40:39.643317Z"
    }
   },
   "outputs": [],
   "source": [
    "df['time_taken'] = df['time_taken'].astype('int')"
   ]
  },
  {
   "cell_type": "markdown",
   "id": "ea8fa597",
   "metadata": {},
   "source": [
    "### Stop Column"
   ]
  },
  {
   "cell_type": "code",
   "execution_count": 27,
   "id": "0f4e3d90",
   "metadata": {
    "ExecuteTime": {
     "end_time": "2022-06-04T19:40:40.250772Z",
     "start_time": "2022-06-04T19:40:39.673611Z"
    }
   },
   "outputs": [],
   "source": [
    "#Replacing / removing unwanted characters\n",
    "df['stop'] = df['stop'].str.replace('\\n','')\n",
    "df['stop'] = df['stop'].str.replace('\\t','')\n",
    "df['stop'] = df['stop'].str.replace('-stop','')\n",
    "df['stop'] = df['stop'].str.replace('-stopVia','')\n",
    "df['stop'] = df['stop'].str.replace('Via','')"
   ]
  },
  {
   "cell_type": "code",
   "execution_count": 28,
   "id": "ceb60c7b",
   "metadata": {
    "ExecuteTime": {
     "end_time": "2022-06-04T19:40:40.580668Z",
     "start_time": "2022-06-04T19:40:40.255491Z"
    }
   },
   "outputs": [],
   "source": [
    "df[['stop', 'stop_place']] = (df['stop'].str.split(' ', 1, expand=True))"
   ]
  },
  {
   "cell_type": "code",
   "execution_count": 29,
   "id": "5188df08",
   "metadata": {
    "ExecuteTime": {
     "end_time": "2022-06-04T19:40:40.704701Z",
     "start_time": "2022-06-04T19:40:40.581578Z"
    }
   },
   "outputs": [],
   "source": [
    "df['stop'] = df['stop'].str.replace('non', '0') "
   ]
  },
  {
   "cell_type": "markdown",
   "id": "ba8e8fad",
   "metadata": {},
   "source": [
    "### Converting the price column from string to integer"
   ]
  },
  {
   "cell_type": "code",
   "execution_count": 30,
   "id": "c710e23c",
   "metadata": {
    "ExecuteTime": {
     "end_time": "2022-06-04T19:40:40.807796Z",
     "start_time": "2022-06-04T19:40:40.705698Z"
    }
   },
   "outputs": [],
   "source": [
    "df['price'] = (df['price'].str.replace(',','')).astype(int)"
   ]
  },
  {
   "cell_type": "markdown",
   "id": "54bff584",
   "metadata": {},
   "source": [
    "## Feature Engineering"
   ]
  },
  {
   "cell_type": "markdown",
   "id": "e63b9147",
   "metadata": {},
   "source": [
    "### Creating a new variable that directly displays the travel route (origin and destination)"
   ]
  },
  {
   "cell_type": "code",
   "execution_count": 31,
   "id": "1264c5e7",
   "metadata": {
    "ExecuteTime": {
     "end_time": "2022-06-04T19:40:40.838130Z",
     "start_time": "2022-06-04T19:40:40.808627Z"
    }
   },
   "outputs": [],
   "source": [
    "df['route'] = df['from'] + '-' + df['to']"
   ]
  },
  {
   "cell_type": "code",
   "execution_count": 32,
   "id": "8fba364c",
   "metadata": {
    "ExecuteTime": {
     "end_time": "2022-06-04T19:40:40.892499Z",
     "start_time": "2022-06-04T19:40:40.839316Z"
    }
   },
   "outputs": [],
   "source": [
    "df.drop(columns = ['from', 'to'], axis = 1, inplace = True)"
   ]
  },
  {
   "cell_type": "markdown",
   "id": "e84e9b60",
   "metadata": {},
   "source": [
    "### Creating a new departure and arrival time variable"
   ]
  },
  {
   "cell_type": "code",
   "execution_count": 33,
   "id": "dbcf2bbb",
   "metadata": {
    "ExecuteTime": {
     "end_time": "2022-06-04T19:40:40.994129Z",
     "start_time": "2022-06-04T19:40:40.893376Z"
    }
   },
   "outputs": [],
   "source": [
    "df['dep_time'] = ((df['dep_time'].str).replace(':', '')).astype('int')"
   ]
  },
  {
   "cell_type": "code",
   "execution_count": 34,
   "id": "12fcca46",
   "metadata": {
    "ExecuteTime": {
     "end_time": "2022-06-04T19:40:41.093688Z",
     "start_time": "2022-06-04T19:40:40.994988Z"
    }
   },
   "outputs": [],
   "source": [
    "df['arr_time'] = ((df['arr_time'].str).replace(':', '')).astype('int')"
   ]
  },
  {
   "cell_type": "code",
   "execution_count": 35,
   "id": "917f6d7e",
   "metadata": {
    "ExecuteTime": {
     "end_time": "2022-06-04T19:40:41.148806Z",
     "start_time": "2022-06-04T19:40:41.094531Z"
    }
   },
   "outputs": [],
   "source": [
    "time_ranges = [0, 700, 1200, 1800, 2359]\n",
    "time_label = ['early_morning', 'morning', 'evening', 'night']\n",
    "\n",
    "df['dep_time'] = (pd.cut(df['dep_time'], bins = time_ranges, labels = time_label)).astype('str')\n",
    "df['arr_time'] = (pd.cut(df['arr_time'], bins = time_ranges, labels = time_label)).astype('str')"
   ]
  },
  {
   "cell_type": "code",
   "execution_count": 36,
   "id": "ff35d424",
   "metadata": {
    "ExecuteTime": {
     "end_time": "2022-06-04T19:40:41.182402Z",
     "start_time": "2022-06-04T19:40:41.149719Z"
    }
   },
   "outputs": [],
   "source": [
    "df['flight_time'] = df['dep_time'] + '-' + df['arr_time']"
   ]
  },
  {
   "cell_type": "code",
   "execution_count": 37,
   "id": "4cfe24ab",
   "metadata": {
    "ExecuteTime": {
     "end_time": "2022-06-04T19:40:41.233090Z",
     "start_time": "2022-06-04T19:40:41.183264Z"
    }
   },
   "outputs": [],
   "source": [
    "df.drop(columns = ['dep_time', 'arr_time', 'stop_place'], axis = 1, inplace = True)"
   ]
  },
  {
   "cell_type": "markdown",
   "id": "c4af3e2d",
   "metadata": {
    "ExecuteTime": {
     "end_time": "2022-06-03T11:43:59.335245Z",
     "start_time": "2022-06-03T11:43:59.329965Z"
    }
   },
   "source": [
    "### Data Type"
   ]
  },
  {
   "cell_type": "code",
   "execution_count": 38,
   "id": "fed7d5e8",
   "metadata": {
    "ExecuteTime": {
     "end_time": "2022-06-04T19:40:41.237437Z",
     "start_time": "2022-06-04T19:40:41.233950Z"
    }
   },
   "outputs": [],
   "source": [
    "cols = []\n",
    "cols_num = []\n",
    "\n",
    "def sep_by_dtype(data):\n",
    "    for col in data.columns:\n",
    "        if data[col].dtype == 'object':\n",
    "            cols.append(col)\n",
    "        elif data[col].dtype == 'int':\n",
    "            cols_num.append(col)\n",
    "        elif data[col].dtype == 'float':\n",
    "            cols_num.append(col)\n",
    "\n",
    "sep_by_dtype(df)"
   ]
  },
  {
   "cell_type": "markdown",
   "id": "8a03d8aa",
   "metadata": {},
   "source": [
    "## Exploratory Data Analysis - Part 2"
   ]
  },
  {
   "cell_type": "markdown",
   "id": "e2293371",
   "metadata": {},
   "source": [
    "### Data"
   ]
  },
  {
   "cell_type": "code",
   "execution_count": 39,
   "id": "6e741dcc",
   "metadata": {
    "ExecuteTime": {
     "end_time": "2022-06-04T19:40:41.244312Z",
     "start_time": "2022-06-04T19:40:41.238216Z"
    }
   },
   "outputs": [
    {
     "data": {
      "text/html": [
       "<div>\n",
       "<style scoped>\n",
       "    .dataframe tbody tr th:only-of-type {\n",
       "        vertical-align: middle;\n",
       "    }\n",
       "\n",
       "    .dataframe tbody tr th {\n",
       "        vertical-align: top;\n",
       "    }\n",
       "\n",
       "    .dataframe thead th {\n",
       "        text-align: right;\n",
       "    }\n",
       "</style>\n",
       "<table border=\"1\" class=\"dataframe\">\n",
       "  <thead>\n",
       "    <tr style=\"text-align: right;\">\n",
       "      <th></th>\n",
       "      <th>date</th>\n",
       "      <th>airline</th>\n",
       "      <th>time_taken</th>\n",
       "      <th>stop</th>\n",
       "      <th>price</th>\n",
       "      <th>class</th>\n",
       "      <th>route</th>\n",
       "      <th>flight_time</th>\n",
       "    </tr>\n",
       "  </thead>\n",
       "  <tbody>\n",
       "    <tr>\n",
       "      <th>0</th>\n",
       "      <td>2022-11-02</td>\n",
       "      <td>Air India</td>\n",
       "      <td>200</td>\n",
       "      <td>0</td>\n",
       "      <td>25612</td>\n",
       "      <td>business</td>\n",
       "      <td>Delhi-Mumbai</td>\n",
       "      <td>evening-night</td>\n",
       "    </tr>\n",
       "    <tr>\n",
       "      <th>1</th>\n",
       "      <td>2022-11-02</td>\n",
       "      <td>Air India</td>\n",
       "      <td>215</td>\n",
       "      <td>0</td>\n",
       "      <td>25612</td>\n",
       "      <td>business</td>\n",
       "      <td>Delhi-Mumbai</td>\n",
       "      <td>night-night</td>\n",
       "    </tr>\n",
       "    <tr>\n",
       "      <th>2</th>\n",
       "      <td>2022-11-02</td>\n",
       "      <td>Air India</td>\n",
       "      <td>2445</td>\n",
       "      <td>1</td>\n",
       "      <td>42220</td>\n",
       "      <td>business</td>\n",
       "      <td>Delhi-Mumbai</td>\n",
       "      <td>night-night</td>\n",
       "    </tr>\n",
       "    <tr>\n",
       "      <th>3</th>\n",
       "      <td>2022-11-02</td>\n",
       "      <td>Air India</td>\n",
       "      <td>2630</td>\n",
       "      <td>1</td>\n",
       "      <td>44450</td>\n",
       "      <td>business</td>\n",
       "      <td>Delhi-Mumbai</td>\n",
       "      <td>night-night</td>\n",
       "    </tr>\n",
       "    <tr>\n",
       "      <th>4</th>\n",
       "      <td>2022-11-02</td>\n",
       "      <td>Air India</td>\n",
       "      <td>640</td>\n",
       "      <td>1</td>\n",
       "      <td>46690</td>\n",
       "      <td>business</td>\n",
       "      <td>Delhi-Mumbai</td>\n",
       "      <td>evening-night</td>\n",
       "    </tr>\n",
       "  </tbody>\n",
       "</table>\n",
       "</div>"
      ],
      "text/plain": [
       "        date    airline  time_taken stop  price     class         route  \\\n",
       "0 2022-11-02  Air India         200    0  25612  business  Delhi-Mumbai   \n",
       "1 2022-11-02  Air India         215    0  25612  business  Delhi-Mumbai   \n",
       "2 2022-11-02  Air India        2445    1  42220  business  Delhi-Mumbai   \n",
       "3 2022-11-02  Air India        2630    1  44450  business  Delhi-Mumbai   \n",
       "4 2022-11-02  Air India         640    1  46690  business  Delhi-Mumbai   \n",
       "\n",
       "     flight_time  \n",
       "0  evening-night  \n",
       "1    night-night  \n",
       "2    night-night  \n",
       "3    night-night  \n",
       "4  evening-night  "
      ]
     },
     "execution_count": 39,
     "metadata": {},
     "output_type": "execute_result"
    }
   ],
   "source": [
    "df.head()"
   ]
  },
  {
   "cell_type": "markdown",
   "id": "95d9e4f3",
   "metadata": {},
   "source": [
    "### Data info"
   ]
  },
  {
   "cell_type": "code",
   "execution_count": 40,
   "id": "20d4a1f5",
   "metadata": {
    "ExecuteTime": {
     "end_time": "2022-06-04T19:40:41.303105Z",
     "start_time": "2022-06-04T19:40:41.245302Z"
    }
   },
   "outputs": [
    {
     "name": "stdout",
     "output_type": "stream",
     "text": [
      "<class 'pandas.core.frame.DataFrame'>\n",
      "Int64Index: 300261 entries, 0 to 206773\n",
      "Data columns (total 8 columns):\n",
      " #   Column       Non-Null Count   Dtype         \n",
      "---  ------       --------------   -----         \n",
      " 0   date         300261 non-null  datetime64[ns]\n",
      " 1   airline      300261 non-null  object        \n",
      " 2   time_taken   300261 non-null  int64         \n",
      " 3   stop         300261 non-null  object        \n",
      " 4   price        300261 non-null  int64         \n",
      " 5   class        300261 non-null  object        \n",
      " 6   route        300261 non-null  object        \n",
      " 7   flight_time  300261 non-null  object        \n",
      "dtypes: datetime64[ns](1), int64(2), object(5)\n",
      "memory usage: 20.6+ MB\n"
     ]
    }
   ],
   "source": [
    "df.info()"
   ]
  },
  {
   "cell_type": "markdown",
   "id": "8ccb9526",
   "metadata": {},
   "source": [
    "### Univariate Analysis "
   ]
  },
  {
   "cell_type": "code",
   "execution_count": 41,
   "id": "40a07253",
   "metadata": {
    "ExecuteTime": {
     "end_time": "2022-06-04T19:40:41.877509Z",
     "start_time": "2022-06-04T19:40:41.304224Z"
    }
   },
   "outputs": [
    {
     "data": {
      "image/png": "[encoded data removed]",
      "text/plain": [
       "<Figure size 720x1080 with 3 Axes>"
      ]
     },
     "metadata": {
      "needs_background": "light"
     },
     "output_type": "display_data"
    }
   ],
   "source": [
    "cols.remove('flight_time')\n",
    "cols.remove('route')\n",
    "features = cols\n",
    "plt.figure(figsize = (10, 15))\n",
    "for i in range(0, len(features)):\n",
    "    plt.subplot(4, 2, i+1)    \n",
    "    sns.countplot(data = df[features], x = features[i], palette = \"PuBu\")\n",
    "    plt.title(features[i], fontsize = 14)\n",
    "    plt.xticks(rotation = 45)\n",
    "    plt.tight_layout()"
   ]
  },
  {
   "cell_type": "markdown",
   "id": "4ec3fa71",
   "metadata": {},
   "source": [
    "**Observations**\n",
    "\n",
    "\n",
    "- The most used airlines are Vistara, Air India and Indigo, respectively;\n",
    "- The most common flight origins are Delhi and Mumbai, and these are also the most common destination;\n",
    "- Most flights have one stop during the flight;\n",
    "- Most people travel in economy class."
   ]
  },
  {
   "cell_type": "code",
   "execution_count": 42,
   "id": "b05ac9e7",
   "metadata": {
    "ExecuteTime": {
     "end_time": "2022-06-04T19:40:42.206609Z",
     "start_time": "2022-06-04T19:40:41.878368Z"
    }
   },
   "outputs": [
    {
     "data": {
      "image/png": "[encoded data removed]",
      "text/plain": [
       "<Figure size 720x720 with 1 Axes>"
      ]
     },
     "metadata": {
      "needs_background": "light"
     },
     "output_type": "display_data"
    }
   ],
   "source": [
    "plt.figure(figsize = (10, 10))\n",
    "\n",
    "sns.countplot(data = df, y = df['flight_time'], palette = \"PuBu\")\n",
    "\n",
    "plt.title('Flight Time Countplot')\n",
    "plt.show()"
   ]
  },
  {
   "cell_type": "markdown",
   "id": "1b5c0516",
   "metadata": {},
   "source": [
    "**Observations**\n",
    "\n",
    "- Most flights leave in the morming and arrive at night"
   ]
  },
  {
   "cell_type": "code",
   "execution_count": 43,
   "id": "1f223fde",
   "metadata": {
    "ExecuteTime": {
     "end_time": "2022-06-04T19:40:42.565741Z",
     "start_time": "2022-06-04T19:40:42.207426Z"
    }
   },
   "outputs": [
    {
     "data": {
      "image/png": "[encoded data removed]",
      "text/plain": [
       "<Figure size 720x720 with 1 Axes>"
      ]
     },
     "metadata": {
      "needs_background": "light"
     },
     "output_type": "display_data"
    }
   ],
   "source": [
    "plt.figure(figsize = (10, 10))\n",
    "\n",
    "sns.countplot(data = df, y = df['route'], palette = \"PuBu\")\n",
    "\n",
    "plt.title('Routes Countplot')\n",
    "plt.show()"
   ]
  },
  {
   "cell_type": "markdown",
   "id": "12b03e39",
   "metadata": {},
   "source": [
    "**Observations**\n",
    "\n",
    "- The most common paths are Delhi-Mumbai and Mumbai-Delhi;\n",
    "- Bangalore is also very common, both as a destination and as an origin."
   ]
  },
  {
   "cell_type": "markdown",
   "id": "613c18e5",
   "metadata": {
    "ExecuteTime": {
     "end_time": "2022-06-03T12:00:42.261401Z",
     "start_time": "2022-06-03T12:00:42.251274Z"
    }
   },
   "source": [
    "### Bivariate Analysis"
   ]
  },
  {
   "cell_type": "code",
   "execution_count": 44,
   "id": "7f09c4bf",
   "metadata": {
    "ExecuteTime": {
     "end_time": "2022-06-04T19:40:49.612601Z",
     "start_time": "2022-06-04T19:40:42.566491Z"
    }
   },
   "outputs": [
    {
     "data": {
      "image/png": "[encoded data removed]",
      "text/plain": [
       "<Figure size 720x720 with 3 Axes>"
      ]
     },
     "metadata": {
      "needs_background": "light"
     },
     "output_type": "display_data"
    }
   ],
   "source": [
    "plt.figure(figsize = (10, 10))\n",
    "for i in range(0, len(cols)):\n",
    "    plt.subplot(3, 2, i+1)    \n",
    "    sns.barplot(data = df[features], x = features[i], y = df['price'], palette = \"PuBu\")\n",
    "    plt.title(features[i], fontsize = 14)\n",
    "    plt.xticks(rotation = 45)\n",
    "    plt.tight_layout()"
   ]
  },
  {
   "cell_type": "markdown",
   "id": "1b48049f",
   "metadata": {},
   "source": [
    "**Observations**\n",
    "\n",
    "- Air Asia and Trujet have the lowest prices;\n",
    "- Flights that are from/to Delhi or Hyderabad are less expensive;\n",
    "- Flights that are from/to Chennai are the most expensive;\n",
    "- Flights with 2+ stops are more expensive;\n",
    "- As imagined, business class flights are more expensive."
   ]
  },
  {
   "cell_type": "markdown",
   "id": "cecfb41a",
   "metadata": {},
   "source": [
    "#### Travel Route vs. Price"
   ]
  },
  {
   "cell_type": "code",
   "execution_count": 45,
   "id": "1e9d5852",
   "metadata": {
    "ExecuteTime": {
     "end_time": "2022-06-04T19:40:52.488185Z",
     "start_time": "2022-06-04T19:40:49.613444Z"
    }
   },
   "outputs": [
    {
     "data": {
      "image/png": "[encoded data removed]",
      "text/plain": [
       "<Figure size 720x720 with 1 Axes>"
      ]
     },
     "metadata": {
      "needs_background": "light"
     },
     "output_type": "display_data"
    }
   ],
   "source": [
    "plt.figure(figsize = (10,10))\n",
    "\n",
    "sns.barplot(data = df, x = df['price'], y = df['route'], palette = 'PuBu')\n",
    "\n",
    "plt.title('Travel Route vs. Price')\n",
    "plt.show()"
   ]
  },
  {
   "cell_type": "markdown",
   "id": "9a249804",
   "metadata": {},
   "source": [
    "**Observations**\n",
    "\n",
    "- Chennai-Bangalore is the most expensive flight;\n",
    "- Flights that are from/to Bangalore or Chennai are more expensive;\n",
    "- Flights that are from/to Delhi are usually less expensive."
   ]
  },
  {
   "cell_type": "markdown",
   "id": "fd0bf7d1",
   "metadata": {},
   "source": [
    "#### Flight time vs. Price"
   ]
  },
  {
   "cell_type": "code",
   "execution_count": 46,
   "id": "07882fe6",
   "metadata": {
    "ExecuteTime": {
     "end_time": "2022-06-04T19:40:55.150875Z",
     "start_time": "2022-06-04T19:40:52.488920Z"
    }
   },
   "outputs": [
    {
     "data": {
      "image/png": "[encoded data removed]",
      "text/plain": [
       "<Figure size 720x720 with 1 Axes>"
      ]
     },
     "metadata": {
      "needs_background": "light"
     },
     "output_type": "display_data"
    }
   ],
   "source": [
    "plt.figure(figsize = (10,10))\n",
    "\n",
    "sns.barplot(data = df, x = df['price'], y = df['flight_time'], palette = 'PuBu')\n",
    "\n",
    "plt.title('Flight Time vs. Price')\n",
    "plt.show()"
   ]
  },
  {
   "cell_type": "markdown",
   "id": "ecfd6b0f",
   "metadata": {},
   "source": [
    "#### Conclusions\n",
    "\n",
    "- Air India and Vistara are the most used airlines;\n",
    "- Most airlines were used only in economy class, but Air India and Vistara have both economy and business use;\n",
    "- Air India and Vistara usually are more expensive than the others airlines;\n",
    "- Trujet and AirAsia usually have the lowest price;\n",
    "- As expected, economy class tickets are cheaper than the business ones;\n",
    "- The most common source and destination cities are Delhi and Mumbai;\n",
    "- Flights from/to Kolkata, Chennai and Bangalore tends to be more expensive;\n",
    "- Flights that are from/to Delhi are usually less expensive;\n",
    "- As the number of stops increases, so does the price."
   ]
  },
  {
   "cell_type": "markdown",
   "id": "b3d10883",
   "metadata": {},
   "source": [
    "### Questions\n",
    "\n",
    "- **Does price vary with Airlines?**\n",
    "    - Yes, the price between de airlines does vary. Air India, for example, usually is more expensive, while Air Asia has a lower price.\n",
    "- **Does ticket price change based on the departure time and arrival time?**\n",
    "    - Yes, the price does vary according to the departure and arrival time. Flights that leave in the morning or at night, for example, usually are more expensive than the ones that leaves in the evening, this may be because the ealier people arrive at their destination, the sooner they can finish what they have to do or enjoy the place.\n",
    "- **How does the price change with change in Source and Destination?**\n",
    "    - The price depends a lot on the origin and destination. For example, flights from/to Chennai or Bangalore are usually more expensive, while the ones that are from/to Delhi are cheaper.\n",
    "- **How does the ticket price vary between Economy and Business class?**\n",
    "    - Business class tickets are way more expensive than the economy ones, because they have more space."
   ]
  },
  {
   "cell_type": "markdown",
   "id": "d7a0e3f7",
   "metadata": {},
   "source": [
    "## Data Preprocessing - Part 2"
   ]
  },
  {
   "cell_type": "markdown",
   "id": "9c0eee1a",
   "metadata": {},
   "source": [
    "### Dealing with categorical data"
   ]
  },
  {
   "cell_type": "code",
   "execution_count": 47,
   "id": "942a883d",
   "metadata": {
    "ExecuteTime": {
     "end_time": "2022-06-04T19:40:55.155018Z",
     "start_time": "2022-06-04T19:40:55.152103Z"
    }
   },
   "outputs": [],
   "source": [
    "cols = []\n",
    "cols_num = []\n",
    "\n",
    "def sep_by_dtype(data):\n",
    "    for col in data.columns:\n",
    "        if data[col].dtype == 'object':\n",
    "            cols.append(col)\n",
    "        elif data[col].dtype == 'int':\n",
    "            cols_num.append(col)\n",
    "        elif data[col].dtype == 'float':\n",
    "            cols_num.append(col)\n",
    "\n",
    "sep_by_dtype(df)"
   ]
  },
  {
   "cell_type": "code",
   "execution_count": 48,
   "id": "f5539099",
   "metadata": {
    "ExecuteTime": {
     "end_time": "2022-06-04T19:40:55.158282Z",
     "start_time": "2022-06-04T19:40:55.155906Z"
    }
   },
   "outputs": [
    {
     "data": {
      "text/plain": [
       "['airline', 'stop', 'class', 'route', 'flight_time']"
      ]
     },
     "execution_count": 48,
     "metadata": {},
     "output_type": "execute_result"
    }
   ],
   "source": [
    "cols"
   ]
  },
  {
   "cell_type": "code",
   "execution_count": 49,
   "id": "11af6844",
   "metadata": {
    "ExecuteTime": {
     "end_time": "2022-06-04T19:40:55.329118Z",
     "start_time": "2022-06-04T19:40:55.159285Z"
    }
   },
   "outputs": [],
   "source": [
    "a = pd.get_dummies(df[cols])\n",
    "data = df.drop(cols, axis = 1, inplace = True)\n",
    "data = pd.concat([df, a], axis = 1)"
   ]
  },
  {
   "cell_type": "markdown",
   "id": "cccc7df3",
   "metadata": {},
   "source": [
    "### Scaling the data"
   ]
  },
  {
   "cell_type": "code",
   "execution_count": 50,
   "id": "6a6e7360",
   "metadata": {
    "ExecuteTime": {
     "end_time": "2022-06-04T19:40:55.730834Z",
     "start_time": "2022-06-04T19:40:55.329951Z"
    }
   },
   "outputs": [],
   "source": [
    "X = data.drop(columns = ['price', 'date'], axis = 1)\n",
    "y = data['price']\n",
    "\n",
    "scaler = StandardScaler()\n",
    "newX = scaler.fit_transform(X)"
   ]
  },
  {
   "cell_type": "markdown",
   "id": "c7b29933",
   "metadata": {},
   "source": [
    "## Machine Learning - Part 1 | Linear Regression"
   ]
  },
  {
   "cell_type": "code",
   "execution_count": 51,
   "id": "ff564efb",
   "metadata": {
    "ExecuteTime": {
     "end_time": "2022-06-04T19:40:56.565682Z",
     "start_time": "2022-06-04T19:40:55.731775Z"
    }
   },
   "outputs": [],
   "source": [
    "Xc = sm.add_constant(newX)\n",
    "model = sm.OLS(y, Xc)\n",
    "model_v1 = model.fit()"
   ]
  },
  {
   "cell_type": "code",
   "execution_count": 52,
   "id": "181ab87f",
   "metadata": {
    "ExecuteTime": {
     "end_time": "2022-06-04T19:40:56.732804Z",
     "start_time": "2022-06-04T19:40:56.566869Z"
    }
   },
   "outputs": [
    {
     "data": {
      "text/html": [
       "<table class=\"simpletable\">\n",
       "<caption>OLS Regression Results</caption>\n",
       "<tr>\n",
       "  <th>Dep. Variable:</th>          <td>price</td>      <th>  R-squared:         </th>  <td>   0.906</td>  \n",
       "</tr>\n",
       "<tr>\n",
       "  <th>Model:</th>                   <td>OLS</td>       <th>  Adj. R-squared:    </th>  <td>   0.906</td>  \n",
       "</tr>\n",
       "<tr>\n",
       "  <th>Method:</th>             <td>Least Squares</td>  <th>  F-statistic:       </th>  <td>5.273e+04</td> \n",
       "</tr>\n",
       "<tr>\n",
       "  <th>Date:</th>             <td>Sat, 04 Jun 2022</td> <th>  Prob (F-statistic):</th>   <td>  0.00</td>   \n",
       "</tr>\n",
       "<tr>\n",
       "  <th>Time:</th>                 <td>16:40:56</td>     <th>  Log-Likelihood:    </th> <td>-3.0824e+06</td>\n",
       "</tr>\n",
       "<tr>\n",
       "  <th>No. Observations:</th>      <td>300261</td>      <th>  AIC:               </th>  <td>6.165e+06</td> \n",
       "</tr>\n",
       "<tr>\n",
       "  <th>Df Residuals:</th>          <td>300205</td>      <th>  BIC:               </th>  <td>6.165e+06</td> \n",
       "</tr>\n",
       "<tr>\n",
       "  <th>Df Model:</th>              <td>    55</td>      <th>                     </th>      <td> </td>     \n",
       "</tr>\n",
       "<tr>\n",
       "  <th>Covariance Type:</th>      <td>nonrobust</td>    <th>                     </th>      <td> </td>     \n",
       "</tr>\n",
       "</table>\n",
       "<table class=\"simpletable\">\n",
       "<tr>\n",
       "    <td></td>       <th>coef</th>     <th>std err</th>      <th>t</th>      <th>P>|t|</th>  <th>[0.025</th>    <th>0.975]</th>  \n",
       "</tr>\n",
       "<tr>\n",
       "  <th>const</th> <td> 2.092e+04</td> <td>   18.092</td> <td> 1156.071</td> <td> 0.000</td> <td> 2.09e+04</td> <td>  2.1e+04</td>\n",
       "</tr>\n",
       "<tr>\n",
       "  <th>x1</th>    <td>  759.6453</td> <td>   21.618</td> <td>   35.140</td> <td> 0.000</td> <td>  717.276</td> <td>  802.015</td>\n",
       "</tr>\n",
       "<tr>\n",
       "  <th>x2</th>    <td>-3.753e+14</td> <td> 4.35e+14</td> <td>   -0.863</td> <td> 0.388</td> <td>-1.23e+15</td> <td> 4.77e+14</td>\n",
       "</tr>\n",
       "<tr>\n",
       "  <th>x3</th>    <td>-1.906e+14</td> <td> 2.21e+14</td> <td>   -0.863</td> <td> 0.388</td> <td>-6.23e+14</td> <td> 2.42e+14</td>\n",
       "</tr>\n",
       "<tr>\n",
       "  <th>x4</th>    <td>-2.258e+14</td> <td> 2.62e+14</td> <td>   -0.863</td> <td> 0.388</td> <td>-7.39e+14</td> <td> 2.87e+14</td>\n",
       "</tr>\n",
       "<tr>\n",
       "  <th>x5</th>    <td>-2.967e+14</td> <td> 3.44e+14</td> <td>   -0.863</td> <td> 0.388</td> <td> -9.7e+14</td> <td> 3.77e+14</td>\n",
       "</tr>\n",
       "<tr>\n",
       "  <th>x6</th>    <td>-1.443e+14</td> <td> 1.67e+14</td> <td>   -0.863</td> <td> 0.388</td> <td>-4.72e+14</td> <td> 1.83e+14</td>\n",
       "</tr>\n",
       "<tr>\n",
       "  <th>x7</th>    <td>-1.206e+13</td> <td>  1.4e+13</td> <td>   -0.863</td> <td> 0.388</td> <td>-3.94e+13</td> <td> 1.53e+13</td>\n",
       "</tr>\n",
       "<tr>\n",
       "  <th>x8</th>    <td>-9.885e+12</td> <td> 1.15e+13</td> <td>   -0.863</td> <td> 0.388</td> <td>-3.23e+13</td> <td> 1.26e+13</td>\n",
       "</tr>\n",
       "<tr>\n",
       "  <th>x9</th>    <td>-4.183e+14</td> <td> 4.85e+14</td> <td>   -0.863</td> <td> 0.388</td> <td>-1.37e+15</td> <td> 5.32e+14</td>\n",
       "</tr>\n",
       "<tr>\n",
       "  <th>x10</th>   <td> 1.361e+15</td> <td> 1.81e+15</td> <td>    0.752</td> <td> 0.452</td> <td>-2.19e+15</td> <td> 4.91e+15</td>\n",
       "</tr>\n",
       "<tr>\n",
       "  <th>x11</th>   <td> 1.552e+15</td> <td> 2.06e+15</td> <td>    0.752</td> <td> 0.452</td> <td>-2.49e+15</td> <td>  5.6e+15</td>\n",
       "</tr>\n",
       "<tr>\n",
       "  <th>x12</th>   <td> 8.614e+14</td> <td> 1.15e+15</td> <td>    0.752</td> <td> 0.452</td> <td>-1.38e+15</td> <td> 3.11e+15</td>\n",
       "</tr>\n",
       "<tr>\n",
       "  <th>x13</th>   <td>-3.368e+13</td> <td> 5.86e+13</td> <td>   -0.575</td> <td> 0.566</td> <td>-1.49e+14</td> <td> 8.12e+13</td>\n",
       "</tr>\n",
       "<tr>\n",
       "  <th>x14</th>   <td>-3.368e+13</td> <td> 5.86e+13</td> <td>   -0.575</td> <td> 0.566</td> <td>-1.49e+14</td> <td> 8.12e+13</td>\n",
       "</tr>\n",
       "<tr>\n",
       "  <th>x15</th>   <td> 4.716e+14</td> <td> 1.29e+14</td> <td>    3.657</td> <td> 0.000</td> <td> 2.19e+14</td> <td> 7.24e+14</td>\n",
       "</tr>\n",
       "<tr>\n",
       "  <th>x16</th>   <td> 6.822e+14</td> <td> 1.87e+14</td> <td>    3.657</td> <td> 0.000</td> <td> 3.17e+14</td> <td> 1.05e+15</td>\n",
       "</tr>\n",
       "<tr>\n",
       "  <th>x17</th>   <td> 5.555e+14</td> <td> 1.52e+14</td> <td>    3.657</td> <td> 0.000</td> <td> 2.58e+14</td> <td> 8.53e+14</td>\n",
       "</tr>\n",
       "<tr>\n",
       "  <th>x18</th>   <td> 5.863e+14</td> <td>  1.6e+14</td> <td>    3.657</td> <td> 0.000</td> <td> 2.72e+14</td> <td> 9.01e+14</td>\n",
       "</tr>\n",
       "<tr>\n",
       "  <th>x19</th>   <td> 6.626e+14</td> <td> 1.81e+14</td> <td>    3.657</td> <td> 0.000</td> <td> 3.07e+14</td> <td> 1.02e+15</td>\n",
       "</tr>\n",
       "<tr>\n",
       "  <th>x20</th>   <td> 4.746e+14</td> <td>  1.3e+14</td> <td>    3.657</td> <td> 0.000</td> <td>  2.2e+14</td> <td> 7.29e+14</td>\n",
       "</tr>\n",
       "<tr>\n",
       "  <th>x21</th>   <td> 5.793e+14</td> <td> 1.58e+14</td> <td>    3.657</td> <td> 0.000</td> <td> 2.69e+14</td> <td>  8.9e+14</td>\n",
       "</tr>\n",
       "<tr>\n",
       "  <th>x22</th>   <td> 4.605e+14</td> <td> 1.26e+14</td> <td>    3.657</td> <td> 0.000</td> <td> 2.14e+14</td> <td> 7.07e+14</td>\n",
       "</tr>\n",
       "<tr>\n",
       "  <th>x23</th>   <td> 4.918e+14</td> <td> 1.34e+14</td> <td>    3.657</td> <td> 0.000</td> <td> 2.28e+14</td> <td> 7.55e+14</td>\n",
       "</tr>\n",
       "<tr>\n",
       "  <th>x24</th>   <td> 5.664e+14</td> <td> 1.55e+14</td> <td>    3.657</td> <td> 0.000</td> <td> 2.63e+14</td> <td>  8.7e+14</td>\n",
       "</tr>\n",
       "<tr>\n",
       "  <th>x25</th>   <td> 6.882e+14</td> <td> 1.88e+14</td> <td>    3.657</td> <td> 0.000</td> <td> 3.19e+14</td> <td> 1.06e+15</td>\n",
       "</tr>\n",
       "<tr>\n",
       "  <th>x26</th>   <td> 6.071e+14</td> <td> 1.66e+14</td> <td>    3.657</td> <td> 0.000</td> <td> 2.82e+14</td> <td> 9.32e+14</td>\n",
       "</tr>\n",
       "<tr>\n",
       "  <th>x27</th>   <td> 5.661e+14</td> <td> 1.55e+14</td> <td>    3.657</td> <td> 0.000</td> <td> 2.63e+14</td> <td>  8.7e+14</td>\n",
       "</tr>\n",
       "<tr>\n",
       "  <th>x28</th>   <td> 6.375e+14</td> <td> 1.74e+14</td> <td>    3.657</td> <td> 0.000</td> <td> 2.96e+14</td> <td> 9.79e+14</td>\n",
       "</tr>\n",
       "<tr>\n",
       "  <th>x29</th>   <td> 7.174e+14</td> <td> 1.96e+14</td> <td>    3.657</td> <td> 0.000</td> <td> 3.33e+14</td> <td>  1.1e+15</td>\n",
       "</tr>\n",
       "<tr>\n",
       "  <th>x30</th>   <td> 5.222e+14</td> <td> 1.43e+14</td> <td>    3.657</td> <td> 0.000</td> <td> 2.42e+14</td> <td> 8.02e+14</td>\n",
       "</tr>\n",
       "<tr>\n",
       "  <th>x31</th>   <td> 4.711e+14</td> <td> 1.29e+14</td> <td>    3.657</td> <td> 0.000</td> <td> 2.19e+14</td> <td> 7.24e+14</td>\n",
       "</tr>\n",
       "<tr>\n",
       "  <th>x32</th>   <td> 5.414e+14</td> <td> 1.48e+14</td> <td>    3.657</td> <td> 0.000</td> <td> 2.51e+14</td> <td> 8.32e+14</td>\n",
       "</tr>\n",
       "<tr>\n",
       "  <th>x33</th>   <td> 5.251e+14</td> <td> 1.44e+14</td> <td>    3.657</td> <td> 0.000</td> <td> 2.44e+14</td> <td> 8.06e+14</td>\n",
       "</tr>\n",
       "<tr>\n",
       "  <th>x34</th>   <td> 5.875e+14</td> <td> 1.61e+14</td> <td>    3.657</td> <td> 0.000</td> <td> 2.73e+14</td> <td> 9.02e+14</td>\n",
       "</tr>\n",
       "<tr>\n",
       "  <th>x35</th>   <td> 5.805e+14</td> <td> 1.59e+14</td> <td>    3.657</td> <td> 0.000</td> <td> 2.69e+14</td> <td> 8.92e+14</td>\n",
       "</tr>\n",
       "<tr>\n",
       "  <th>x36</th>   <td> 4.803e+14</td> <td> 1.31e+14</td> <td>    3.657</td> <td> 0.000</td> <td> 2.23e+14</td> <td> 7.38e+14</td>\n",
       "</tr>\n",
       "<tr>\n",
       "  <th>x37</th>   <td> 5.996e+14</td> <td> 1.64e+14</td> <td>    3.657</td> <td> 0.000</td> <td> 2.78e+14</td> <td> 9.21e+14</td>\n",
       "</tr>\n",
       "<tr>\n",
       "  <th>x38</th>   <td> 5.222e+14</td> <td> 1.43e+14</td> <td>    3.657</td> <td> 0.000</td> <td> 2.42e+14</td> <td> 8.02e+14</td>\n",
       "</tr>\n",
       "<tr>\n",
       "  <th>x39</th>   <td> 6.254e+14</td> <td> 1.71e+14</td> <td>    3.657</td> <td> 0.000</td> <td>  2.9e+14</td> <td> 9.61e+14</td>\n",
       "</tr>\n",
       "<tr>\n",
       "  <th>x40</th>   <td> 6.613e+14</td> <td> 1.81e+14</td> <td>    3.657</td> <td> 0.000</td> <td> 3.07e+14</td> <td> 1.02e+15</td>\n",
       "</tr>\n",
       "<tr>\n",
       "  <th>x41</th>   <td> 5.891e+14</td> <td> 1.61e+14</td> <td>    3.657</td> <td> 0.000</td> <td> 2.73e+14</td> <td> 9.05e+14</td>\n",
       "</tr>\n",
       "<tr>\n",
       "  <th>x42</th>   <td> 7.066e+14</td> <td> 1.93e+14</td> <td>    3.657</td> <td> 0.000</td> <td> 3.28e+14</td> <td> 1.09e+15</td>\n",
       "</tr>\n",
       "<tr>\n",
       "  <th>x43</th>   <td> 5.988e+14</td> <td> 1.64e+14</td> <td>    3.657</td> <td> 0.000</td> <td> 2.78e+14</td> <td>  9.2e+14</td>\n",
       "</tr>\n",
       "<tr>\n",
       "  <th>x44</th>   <td> 6.543e+14</td> <td> 1.79e+14</td> <td>    3.657</td> <td> 0.000</td> <td> 3.04e+14</td> <td> 1.01e+15</td>\n",
       "</tr>\n",
       "<tr>\n",
       "  <th>x45</th>   <td>-2.023e+14</td> <td> 1.33e+14</td> <td>   -1.516</td> <td> 0.130</td> <td>-4.64e+14</td> <td> 5.93e+13</td>\n",
       "</tr>\n",
       "<tr>\n",
       "  <th>x46</th>   <td>-6.233e+14</td> <td> 4.11e+14</td> <td>   -1.516</td> <td> 0.130</td> <td>-1.43e+15</td> <td> 1.83e+14</td>\n",
       "</tr>\n",
       "<tr>\n",
       "  <th>x47</th>   <td>-5.611e+14</td> <td>  3.7e+14</td> <td>   -1.516</td> <td> 0.130</td> <td>-1.29e+15</td> <td> 1.65e+14</td>\n",
       "</tr>\n",
       "<tr>\n",
       "  <th>x48</th>   <td>-6.806e+14</td> <td> 4.49e+14</td> <td>   -1.516</td> <td> 0.130</td> <td>-1.56e+15</td> <td>    2e+14</td>\n",
       "</tr>\n",
       "<tr>\n",
       "  <th>x49</th>   <td>-4.085e+14</td> <td>  2.7e+14</td> <td>   -1.516</td> <td> 0.130</td> <td>-9.37e+14</td> <td>  1.2e+14</td>\n",
       "</tr>\n",
       "<tr>\n",
       "  <th>x50</th>   <td>-5.855e+14</td> <td> 3.86e+14</td> <td>   -1.516</td> <td> 0.130</td> <td>-1.34e+15</td> <td> 1.72e+14</td>\n",
       "</tr>\n",
       "<tr>\n",
       "  <th>x51</th>   <td>-6.521e+14</td> <td>  4.3e+14</td> <td>   -1.516</td> <td> 0.130</td> <td> -1.5e+15</td> <td> 1.91e+14</td>\n",
       "</tr>\n",
       "<tr>\n",
       "  <th>x52</th>   <td>-9.988e+14</td> <td> 6.59e+14</td> <td>   -1.516</td> <td> 0.130</td> <td>-2.29e+15</td> <td> 2.93e+14</td>\n",
       "</tr>\n",
       "<tr>\n",
       "  <th>x53</th>   <td>-2.164e+14</td> <td> 1.43e+14</td> <td>   -1.516</td> <td> 0.130</td> <td>-4.96e+14</td> <td> 6.35e+13</td>\n",
       "</tr>\n",
       "<tr>\n",
       "  <th>x54</th>   <td>-8.081e+14</td> <td> 5.33e+14</td> <td>   -1.516</td> <td> 0.130</td> <td>-1.85e+15</td> <td> 2.37e+14</td>\n",
       "</tr>\n",
       "<tr>\n",
       "  <th>x55</th>   <td>-6.218e+14</td> <td>  4.1e+14</td> <td>   -1.516</td> <td> 0.130</td> <td>-1.43e+15</td> <td> 1.82e+14</td>\n",
       "</tr>\n",
       "<tr>\n",
       "  <th>x56</th>   <td>-1.031e+15</td> <td>  6.8e+14</td> <td>   -1.516</td> <td> 0.130</td> <td>-2.36e+15</td> <td> 3.02e+14</td>\n",
       "</tr>\n",
       "<tr>\n",
       "  <th>x57</th>   <td>-4.264e+14</td> <td> 2.81e+14</td> <td>   -1.516</td> <td> 0.130</td> <td>-9.78e+14</td> <td> 1.25e+14</td>\n",
       "</tr>\n",
       "<tr>\n",
       "  <th>x58</th>   <td>-6.081e+14</td> <td> 4.01e+14</td> <td>   -1.516</td> <td> 0.130</td> <td>-1.39e+15</td> <td> 1.78e+14</td>\n",
       "</tr>\n",
       "<tr>\n",
       "  <th>x59</th>   <td> -8.59e+14</td> <td> 5.67e+14</td> <td>   -1.516</td> <td> 0.130</td> <td>-1.97e+15</td> <td> 2.52e+14</td>\n",
       "</tr>\n",
       "<tr>\n",
       "  <th>x60</th>   <td>-8.183e+14</td> <td>  5.4e+14</td> <td>   -1.516</td> <td> 0.130</td> <td>-1.88e+15</td> <td>  2.4e+14</td>\n",
       "</tr>\n",
       "</table>\n",
       "<table class=\"simpletable\">\n",
       "<tr>\n",
       "  <th>Omnibus:</th>       <td>39496.608</td> <th>  Durbin-Watson:     </th>  <td>   0.329</td> \n",
       "</tr>\n",
       "<tr>\n",
       "  <th>Prob(Omnibus):</th>  <td> 0.000</td>   <th>  Jarque-Bera (JB):  </th> <td>343764.725</td>\n",
       "</tr>\n",
       "<tr>\n",
       "  <th>Skew:</th>           <td> 0.346</td>   <th>  Prob(JB):          </th>  <td>    0.00</td> \n",
       "</tr>\n",
       "<tr>\n",
       "  <th>Kurtosis:</th>       <td> 8.196</td>   <th>  Cond. No.          </th>  <td>2.25e+15</td> \n",
       "</tr>\n",
       "</table><br/><br/>Notes:<br/>[1] Standard Errors assume that the covariance matrix of the errors is correctly specified.<br/>[2] The smallest eigenvalue is 1.84e-25. This might indicate that there are<br/>strong multicollinearity problems or that the design matrix is singular."
      ],
      "text/plain": [
       "<class 'statsmodels.iolib.summary.Summary'>\n",
       "\"\"\"\n",
       "                            OLS Regression Results                            \n",
       "==============================================================================\n",
       "Dep. Variable:                  price   R-squared:                       0.906\n",
       "Model:                            OLS   Adj. R-squared:                  0.906\n",
       "Method:                 Least Squares   F-statistic:                 5.273e+04\n",
       "Date:                Sat, 04 Jun 2022   Prob (F-statistic):               0.00\n",
       "Time:                        16:40:56   Log-Likelihood:            -3.0824e+06\n",
       "No. Observations:              300261   AIC:                         6.165e+06\n",
       "Df Residuals:                  300205   BIC:                         6.165e+06\n",
       "Df Model:                          55                                         \n",
       "Covariance Type:            nonrobust                                         \n",
       "==============================================================================\n",
       "                 coef    std err          t      P>|t|      [0.025      0.975]\n",
       "------------------------------------------------------------------------------\n",
       "const       2.092e+04     18.092   1156.071      0.000    2.09e+04     2.1e+04\n",
       "x1           759.6453     21.618     35.140      0.000     717.276     802.015\n",
       "x2         -3.753e+14   4.35e+14     -0.863      0.388   -1.23e+15    4.77e+14\n",
       "x3         -1.906e+14   2.21e+14     -0.863      0.388   -6.23e+14    2.42e+14\n",
       "x4         -2.258e+14   2.62e+14     -0.863      0.388   -7.39e+14    2.87e+14\n",
       "x5         -2.967e+14   3.44e+14     -0.863      0.388    -9.7e+14    3.77e+14\n",
       "x6         -1.443e+14   1.67e+14     -0.863      0.388   -4.72e+14    1.83e+14\n",
       "x7         -1.206e+13    1.4e+13     -0.863      0.388   -3.94e+13    1.53e+13\n",
       "x8         -9.885e+12   1.15e+13     -0.863      0.388   -3.23e+13    1.26e+13\n",
       "x9         -4.183e+14   4.85e+14     -0.863      0.388   -1.37e+15    5.32e+14\n",
       "x10         1.361e+15   1.81e+15      0.752      0.452   -2.19e+15    4.91e+15\n",
       "x11         1.552e+15   2.06e+15      0.752      0.452   -2.49e+15     5.6e+15\n",
       "x12         8.614e+14   1.15e+15      0.752      0.452   -1.38e+15    3.11e+15\n",
       "x13        -3.368e+13   5.86e+13     -0.575      0.566   -1.49e+14    8.12e+13\n",
       "x14        -3.368e+13   5.86e+13     -0.575      0.566   -1.49e+14    8.12e+13\n",
       "x15         4.716e+14   1.29e+14      3.657      0.000    2.19e+14    7.24e+14\n",
       "x16         6.822e+14   1.87e+14      3.657      0.000    3.17e+14    1.05e+15\n",
       "x17         5.555e+14   1.52e+14      3.657      0.000    2.58e+14    8.53e+14\n",
       "x18         5.863e+14    1.6e+14      3.657      0.000    2.72e+14    9.01e+14\n",
       "x19         6.626e+14   1.81e+14      3.657      0.000    3.07e+14    1.02e+15\n",
       "x20         4.746e+14    1.3e+14      3.657      0.000     2.2e+14    7.29e+14\n",
       "x21         5.793e+14   1.58e+14      3.657      0.000    2.69e+14     8.9e+14\n",
       "x22         4.605e+14   1.26e+14      3.657      0.000    2.14e+14    7.07e+14\n",
       "x23         4.918e+14   1.34e+14      3.657      0.000    2.28e+14    7.55e+14\n",
       "x24         5.664e+14   1.55e+14      3.657      0.000    2.63e+14     8.7e+14\n",
       "x25         6.882e+14   1.88e+14      3.657      0.000    3.19e+14    1.06e+15\n",
       "x26         6.071e+14   1.66e+14      3.657      0.000    2.82e+14    9.32e+14\n",
       "x27         5.661e+14   1.55e+14      3.657      0.000    2.63e+14     8.7e+14\n",
       "x28         6.375e+14   1.74e+14      3.657      0.000    2.96e+14    9.79e+14\n",
       "x29         7.174e+14   1.96e+14      3.657      0.000    3.33e+14     1.1e+15\n",
       "x30         5.222e+14   1.43e+14      3.657      0.000    2.42e+14    8.02e+14\n",
       "x31         4.711e+14   1.29e+14      3.657      0.000    2.19e+14    7.24e+14\n",
       "x32         5.414e+14   1.48e+14      3.657      0.000    2.51e+14    8.32e+14\n",
       "x33         5.251e+14   1.44e+14      3.657      0.000    2.44e+14    8.06e+14\n",
       "x34         5.875e+14   1.61e+14      3.657      0.000    2.73e+14    9.02e+14\n",
       "x35         5.805e+14   1.59e+14      3.657      0.000    2.69e+14    8.92e+14\n",
       "x36         4.803e+14   1.31e+14      3.657      0.000    2.23e+14    7.38e+14\n",
       "x37         5.996e+14   1.64e+14      3.657      0.000    2.78e+14    9.21e+14\n",
       "x38         5.222e+14   1.43e+14      3.657      0.000    2.42e+14    8.02e+14\n",
       "x39         6.254e+14   1.71e+14      3.657      0.000     2.9e+14    9.61e+14\n",
       "x40         6.613e+14   1.81e+14      3.657      0.000    3.07e+14    1.02e+15\n",
       "x41         5.891e+14   1.61e+14      3.657      0.000    2.73e+14    9.05e+14\n",
       "x42         7.066e+14   1.93e+14      3.657      0.000    3.28e+14    1.09e+15\n",
       "x43         5.988e+14   1.64e+14      3.657      0.000    2.78e+14     9.2e+14\n",
       "x44         6.543e+14   1.79e+14      3.657      0.000    3.04e+14    1.01e+15\n",
       "x45        -2.023e+14   1.33e+14     -1.516      0.130   -4.64e+14    5.93e+13\n",
       "x46        -6.233e+14   4.11e+14     -1.516      0.130   -1.43e+15    1.83e+14\n",
       "x47        -5.611e+14    3.7e+14     -1.516      0.130   -1.29e+15    1.65e+14\n",
       "x48        -6.806e+14   4.49e+14     -1.516      0.130   -1.56e+15       2e+14\n",
       "x49        -4.085e+14    2.7e+14     -1.516      0.130   -9.37e+14     1.2e+14\n",
       "x50        -5.855e+14   3.86e+14     -1.516      0.130   -1.34e+15    1.72e+14\n",
       "x51        -6.521e+14    4.3e+14     -1.516      0.130    -1.5e+15    1.91e+14\n",
       "x52        -9.988e+14   6.59e+14     -1.516      0.130   -2.29e+15    2.93e+14\n",
       "x53        -2.164e+14   1.43e+14     -1.516      0.130   -4.96e+14    6.35e+13\n",
       "x54        -8.081e+14   5.33e+14     -1.516      0.130   -1.85e+15    2.37e+14\n",
       "x55        -6.218e+14    4.1e+14     -1.516      0.130   -1.43e+15    1.82e+14\n",
       "x56        -1.031e+15    6.8e+14     -1.516      0.130   -2.36e+15    3.02e+14\n",
       "x57        -4.264e+14   2.81e+14     -1.516      0.130   -9.78e+14    1.25e+14\n",
       "x58        -6.081e+14   4.01e+14     -1.516      0.130   -1.39e+15    1.78e+14\n",
       "x59         -8.59e+14   5.67e+14     -1.516      0.130   -1.97e+15    2.52e+14\n",
       "x60        -8.183e+14    5.4e+14     -1.516      0.130   -1.88e+15     2.4e+14\n",
       "==============================================================================\n",
       "Omnibus:                    39496.608   Durbin-Watson:                   0.329\n",
       "Prob(Omnibus):                  0.000   Jarque-Bera (JB):           343764.725\n",
       "Skew:                           0.346   Prob(JB):                         0.00\n",
       "Kurtosis:                       8.196   Cond. No.                     2.25e+15\n",
       "==============================================================================\n",
       "\n",
       "Notes:\n",
       "[1] Standard Errors assume that the covariance matrix of the errors is correctly specified.\n",
       "[2] The smallest eigenvalue is 1.84e-25. This might indicate that there are\n",
       "strong multicollinearity problems or that the design matrix is singular.\n",
       "\"\"\""
      ]
     },
     "execution_count": 52,
     "metadata": {},
     "output_type": "execute_result"
    }
   ],
   "source": [
    "model_v1.summary()"
   ]
  },
  {
   "cell_type": "code",
   "execution_count": 53,
   "id": "62722123",
   "metadata": {
    "ExecuteTime": {
     "end_time": "2022-06-04T19:40:56.908620Z",
     "start_time": "2022-06-04T19:40:56.734427Z"
    }
   },
   "outputs": [],
   "source": [
    "X_train, X_test, y_train, y_test = train_test_split(newX, y, test_size = 0.2, random_state = 42)"
   ]
  },
  {
   "cell_type": "code",
   "execution_count": 54,
   "id": "7cde23fe",
   "metadata": {
    "ExecuteTime": {
     "end_time": "2022-06-04T19:40:57.168913Z",
     "start_time": "2022-06-04T19:40:56.909572Z"
    }
   },
   "outputs": [],
   "source": [
    "model = LinearRegression()\n",
    "model.fit(X_train,y_train)\n",
    "\n",
    "y_pred = model.predict(X_test)"
   ]
  },
  {
   "cell_type": "code",
   "execution_count": 55,
   "id": "4fb0da54",
   "metadata": {
    "ExecuteTime": {
     "end_time": "2022-06-04T19:40:57.173881Z",
     "start_time": "2022-06-04T19:40:57.170303Z"
    }
   },
   "outputs": [
    {
     "name": "stdout",
     "output_type": "stream",
     "text": [
      "R2 Score:  0.906\n"
     ]
    }
   ],
   "source": [
    "print(\"R2 Score: \", round(r2_score(y_test,y_pred), 3))"
   ]
  },
  {
   "cell_type": "code",
   "execution_count": 56,
   "id": "fe26ed1c",
   "metadata": {
    "ExecuteTime": {
     "end_time": "2022-06-04T19:40:57.177001Z",
     "start_time": "2022-06-04T19:40:57.174947Z"
    }
   },
   "outputs": [],
   "source": [
    "### to be continued"
   ]
  }
 ],
 "metadata": {
  "hide_input": false,
  "kernelspec": {
   "display_name": "Python 3 (ipykernel)",
   "language": "python",
   "name": "python3"
  },
  "language_info": {
   "codemirror_mode": {
    "name": "ipython",
    "version": 3
   },
   "file_extension": ".py",
   "mimetype": "text/x-python",
   "name": "python",
   "nbconvert_exporter": "python",
   "pygments_lexer": "ipython3",
   "version": "3.9.7"
  },
  "toc": {
   "base_numbering": 1,
   "nav_menu": {},
   "number_sections": true,
   "sideBar": true,
   "skip_h1_title": false,
   "title_cell": "Table of Contents",
   "title_sidebar": "Contents",
   "toc_cell": false,
   "toc_position": {},
   "toc_section_display": true,
   "toc_window_display": false
  },
  "varInspector": {
   "cols": {
    "lenName": 16,
    "lenType": 16,
    "lenVar": 40
   },
   "kernels_config": {
    "python": {
     "delete_cmd_postfix": "",
     "delete_cmd_prefix": "del ",
     "library": "var_list.py",
     "varRefreshCmd": "print(var_dic_list())"
    },
    "r": {
     "delete_cmd_postfix": ") ",
     "delete_cmd_prefix": "rm(",
     "library": "var_list.r",
     "varRefreshCmd": "cat(var_dic_list()) "
    }
   },
   "types_to_exclude": [
    "module",
    "function",
    "builtin_function_or_method",
    "instance",
    "_Feature"
   ],
   "window_display": false
  }
 },
 "nbformat": 4,
 "nbformat_minor": 5
}
